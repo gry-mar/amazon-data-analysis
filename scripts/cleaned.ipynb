{
 "cells": [
  {
   "cell_type": "markdown",
   "id": "2f08b9db",
   "metadata": {},
   "source": [
    "## Data analysis\n",
    "the training set after segmentation was used for initial data analysis."
   ]
  },
  {
   "cell_type": "code",
   "execution_count": null,
   "id": "5dd1dfe7",
   "metadata": {
    "tags": [
     "parameters"
    ]
   },
   "outputs": [],
   "source": [
    "import pandas as pd\n",
    "\n",
    "import numpy as np\n",
    "\n",
    "import seaborn as sns\n",
    "import os\n",
    "import yaml\n",
    "import json\n",
    "\n",
    "import matplotlib.pyplot as plt\n",
    "\n",
    "cwd = os.getcwd()\n",
    "\n",
    "if cwd == \"/app/scripts\":\n",
    "    filepath = \"../data/segmentation/train.csv\"\n",
    "else:\n",
    "    params = yaml.safe_load(open('params.yaml'))['analysis']\n",
    "    filepath = params['datasets']\n",
    "    \n",
    "df = pd.read_csv(filepath)\n",
    "df.head().T\n"
   ]
  },
  {
   "cell_type": "code",
   "execution_count": null,
   "id": "0fabd52d",
   "metadata": {},
   "outputs": [],
   "source": [
    "df = df.drop(\"Unnamed: 0\", axis=1)\n",
    "print(\"\")\n",
    "df.columns"
   ]
  },
  {
   "cell_type": "markdown",
   "id": "c6082c0d",
   "metadata": {},
   "source": [
    "### Null values analysis"
   ]
  },
  {
   "cell_type": "code",
   "execution_count": null,
   "id": "78792b75",
   "metadata": {},
   "outputs": [],
   "source": [
    "df.isna().sum()"
   ]
  },
  {
   "cell_type": "code",
   "execution_count": null,
   "id": "6f5b2093",
   "metadata": {},
   "outputs": [],
   "source": [
    "df.dtypes"
   ]
  },
  {
   "cell_type": "code",
   "execution_count": null,
   "id": "0197c1c8",
   "metadata": {},
   "outputs": [],
   "source": [
    "from pandas.api.types import is_numeric_dtype\n",
    "\n",
    "for col in df.columns:\n",
    "    if is_numeric_dtype(df[col]):\n",
    "        df.fillna((df[col].median()), inplace=True)\n",
    "    else:\n",
    "        df.fillna(\"\", inplace=True)\n",
    "\n",
    "df.isna().sum()"
   ]
  },
  {
   "cell_type": "markdown",
   "id": "d198c3ba",
   "metadata": {},
   "source": [
    "### Categorical and numerical variables"
   ]
  },
  {
   "cell_type": "code",
   "execution_count": null,
   "id": "00dc3ea2",
   "metadata": {},
   "outputs": [],
   "source": [
    "df_categorical_features = df.select_dtypes(include='object')\n",
    "df_categorical_features.describe()"
   ]
  },
  {
   "cell_type": "markdown",
   "id": "df41ee57",
   "metadata": {},
   "source": [
    "### Correlations\n"
   ]
  },
  {
   "cell_type": "code",
   "execution_count": null,
   "id": "acc54f4b",
   "metadata": {},
   "outputs": [],
   "source": [
    "\n",
    "sns.pairplot(df, hue=\"overall\")\n",
    "plt.show()"
   ]
  },
  {
   "cell_type": "code",
   "execution_count": null,
   "id": "7dc11b29",
   "metadata": {},
   "outputs": [],
   "source": [
    "corr = df.corr()\n",
    "sns.set_style(style = 'white')\n",
    "mask = np.triu(np.ones_like(corr, dtype=bool))\n",
    "\n",
    "f, ax = plt.subplots(figsize=(20, 20))\n",
    "\n",
    "cmap = sns.diverging_palette(230, 20, as_cmap=True)\n",
    "\n",
    "sns.heatmap(corr, mask=mask,  cmap=cmap, vmax=.3, center=0,\n",
    "            square=True, linewidths=.5, cbar_kws={\"shrink\": .5})"
   ]
  },
  {
   "cell_type": "code",
   "execution_count": null,
   "id": "eceb6674",
   "metadata": {},
   "outputs": [],
   "source": [
    "df.corr()"
   ]
  },
  {
   "cell_type": "markdown",
   "id": "f2b7a71c",
   "metadata": {},
   "source": [
    "Basic correlation analysis (Pairplot, correlation heatmap and tabular presentation) was performed on data with numerical representation. An apparent positive correlation was observed for text length and word count, which is not revealing. Positive correlation occurred between data that contain verified opinions and verified and additionally those that were voted for. A weak positive correlation is also seen between the length of reviews and the number of words and votes cast, which may indicate that longer reviews are more helpful.\n",
    "A negative correlation occurred between whether a review was reviewed and the length of the review.\n",
    "The other data in the numerical summary above did not show strong correlations."
   ]
  },
  {
   "cell_type": "markdown",
   "id": "895a3fc9",
   "metadata": {},
   "source": [
    "Based on the graphs of correlations between groups with 'overall' as a category, it was not observed that for any of the characteristics the output groups are separated. Regarding the distribution of variables (see pairplot), no correlation was observed with the type of opinion, the only apparent correlation is due to the fact that there are significantly more opinions mapped as positive than neutral and negative, as shown numerically below."
   ]
  },
  {
   "cell_type": "code",
   "execution_count": null,
   "id": "19505720",
   "metadata": {},
   "outputs": [],
   "source": [
    "print(\"Number of positives: \", df[df['overall'] == 'positive'].shape[0])\n",
    "print(\"Number of neutral: \", df[df['overall'] == 'neutral'].shape[0])\n",
    "print(\"Number of negatives: \", df[df['overall'] == 'negative'].shape[0])"
   ]
  },
  {
   "cell_type": "markdown",
   "id": "2f3ab4ec",
   "metadata": {},
   "source": [
    "### Text data analysis\n"
   ]
  },
  {
   "cell_type": "code",
   "execution_count": null,
   "id": "d5600f07",
   "metadata": {},
   "outputs": [],
   "source": [
    "df[\"reviewText\"].str.lower()\n",
    "df_new = df.copy()\n",
    "df_new[\"reviewText\"] = df_new[\"reviewText\"].str.lower()\n",
    "df_new[\"reviewText\"].str.split(expand=True).stack().value_counts().head(30)\n"
   ]
  },
  {
   "cell_type": "markdown",
   "id": "40eeb00e",
   "metadata": {},
   "source": [
    "\n",
    "In conclusion, based on the extraction of adjectives alone, it is impossible to define sentiment, single words without context do not say much, which is also indicated by the appearance of 'good; in all three groups, which indicates a positive overtone, however, could have indicated something like \"I was searching for something good but I wasn't this item\"."
   ]
  },
  {
   "cell_type": "code",
   "execution_count": null,
   "id": "89b0876b",
   "metadata": {},
   "outputs": [],
   "source": []
  }
 ],
 "metadata": {
  "celltoolbar": "Tags",
  "kernelspec": {
   "display_name": "Python 3 (ipykernel)",
   "language": "python",
   "name": "python3"
  },
  "language_info": {
   "codemirror_mode": {
    "name": "ipython",
    "version": 3
   },
   "file_extension": ".py",
   "mimetype": "text/x-python",
   "name": "python",
   "nbconvert_exporter": "python",
   "pygments_lexer": "ipython3",
   "version": "3.10.11"
  }
 },
 "nbformat": 4,
 "nbformat_minor": 5
}
